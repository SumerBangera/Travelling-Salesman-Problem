{
 "cells": [
  {
   "cell_type": "markdown",
   "metadata": {},
   "source": [
    "## Travelling Salesman Problem"
   ]
  },
  {
   "cell_type": "markdown",
   "metadata": {},
   "source": [
    "Problem Statement: The delivery person is currently at location 1 and needs to deliver the package to customers at all the other locations and then return back to location 1. Assuming the time for consumers to pick up their delivery is zero, the objective of the delivery problem is to minimize the total traveling time (or waiting time of the consumers)."
   ]
  },
  {
   "cell_type": "markdown",
   "metadata": {},
   "source": [
    "#### Locations the salesman need to visit "
   ]
  },
  {
   "cell_type": "markdown",
   "metadata": {},
   "source": [
    "<img src=\"location details.png\">"
   ]
  },
  {
   "attachments": {},
   "cell_type": "markdown",
   "metadata": {},
   "source": [
    "#### Pairwise Walking Time between locations\n",
    "<img src=\"Pairwise waiting time.png\">"
   ]
  },
  {
   "cell_type": "markdown",
   "metadata": {},
   "source": [
    "#### Model by Miller, Tucker and Zemlin\n",
    "\n",
    "\\begin{equation}\n",
    "\\begin{split}\n",
    "\\min~ & \\sum_{i=1}^n\\sum_{j=1}^nc_{ij}x_{ij} \\\\\n",
    "s.t. ~& \\sum_{i=1}^nx_{ij} =1, ~ j =1,...,n\\\\\n",
    "& \\sum_{j=1}^nx_{ij} =1, ~ i =1,...,n\\\\\n",
    "& u_i + 1 - u_j \\leq M(1 - x_{ij}), ~ i\\neq j, 1\\leq i\\leq n, 2\\leq j \\leq n \\\\ \n",
    "& x_{ij}\\in\\{0,1\\}, u_i\\geq 0, i =1,...,n.\n",
    "\\end{split}\n",
    "\\end{equation}"
   ]
  },
  {
   "cell_type": "markdown",
   "metadata": {},
   "source": [
    "#### Minimum traveling time and route to traverse the locations of all customers and returning to location 1 (not considering maximum waiting time of the consumer)"
   ]
  },
  {
   "cell_type": "code",
   "execution_count": 10,
   "metadata": {},
   "outputs": [],
   "source": [
    "from gurobipy import *\n",
    "import numpy as np\n",
    "\n",
    "# Parameters Set-up\n",
    "\n",
    "# Pairwise Walking Time from node i to node j\n",
    "\n",
    "cost = np.array([[1000, 3, 3, 10, 9, 10],\n",
    "                 [3, 1000, 3, 7, 6, 7],\n",
    "                 [3, 3, 1000, 7, 6, 7],\n",
    "                 [10, 7, 7, 1000, 1, 2],\n",
    "                 [9, 6, 6, 1, 1000, 1],\n",
    "                 [10, 7, 7, 2, 1, 1000]])\n",
    "N = cost.shape[0]\n",
    "\n",
    "#the big M\n",
    "M = 10000"
   ]
  },
  {
   "cell_type": "code",
   "execution_count": 11,
   "metadata": {},
   "outputs": [
    {
     "name": "stdout",
     "output_type": "stream",
     "text": [
      "Optimize a model with 42 rows, 42 columns and 152 nonzeros\n",
      "Variable types: 6 continuous, 36 integer (36 binary)\n",
      "Coefficient statistics:\n",
      "  Matrix range     [1e+00, 1e+04]\n",
      "  Objective range  [1e+00, 1e+03]\n",
      "  Bounds range     [1e+00, 1e+00]\n",
      "  RHS range        [1e+00, 1e+04]\n",
      "Found heuristic solution: objective 37.0000000\n",
      "Presolve removed 5 rows and 7 columns\n",
      "Presolve time: 0.00s\n",
      "Presolved: 37 rows, 35 columns, 150 nonzeros\n",
      "Variable types: 5 continuous, 30 integer (30 binary)\n",
      "\n",
      "Root relaxation: objective 1.300000e+01, 17 iterations, 0.00 seconds\n",
      "\n",
      "    Nodes    |    Current Node    |     Objective Bounds      |     Work\n",
      " Expl Unexpl |  Obj  Depth IntInf | Incumbent    BestBd   Gap | It/Node Time\n",
      "\n",
      "     0     0   13.00000    0    6   37.00000   13.00000  64.9%     -    0s\n",
      "H    0     0                      25.0000000   13.00000  48.0%     -    0s\n",
      "     0     0   13.00000    0    6   25.00000   13.00000  48.0%     -    0s\n",
      "H    0     0                      22.0000000   13.00000  40.9%     -    0s\n",
      "     0     0 infeasible    0        22.00000   22.00000  0.00%     -    0s\n",
      "\n",
      "Explored 1 nodes (26 simplex iterations) in 0.03 seconds\n",
      "Thread count was 8 (of 8 available processors)\n",
      "\n",
      "Solution count 3: 22 25 37 \n",
      "\n",
      "Optimal solution found (tolerance 1.00e-04)\n",
      "Best objective 2.200000000000e+01, best bound 2.200000000000e+01, gap 0.0000%\n"
     ]
    }
   ],
   "source": [
    "# Model Set-up\n",
    "\n",
    "tsp = Model(\"traveling_salesman\")\n",
    "\n",
    "\n",
    "# Creat variables\n",
    "x = tsp.addVars(N, N, vtype=GRB.BINARY, name = \"x\")\n",
    "\n",
    "u = tsp.addVars(N, name = \"u\")\n",
    "\n",
    "# Set objective\n",
    "tsp.setObjective( quicksum(cost[i,j]*x[i,j] for i in range(N) for j in range(N)), GRB.MINIMIZE)\n",
    "\n",
    "# Assignment constraints:\n",
    "tsp.addConstrs(( quicksum(x[i,j] for j in range(N)) == 1 for i in range(N) ))\n",
    " \n",
    "tsp.addConstrs(( quicksum(x[i,j] for i in range(N)) == 1 for j in range(N) ))\n",
    "\n",
    "# Subtour-breaking constraints:\n",
    "tsp.addConstrs(( u[i] + 1 - u[j] <= M*(1 - x[i,j])  for i in range(N) for j in range(1,N) ))\n",
    "\n",
    "# Solving the model\n",
    "tsp.optimize()\n"
   ]
  },
  {
   "cell_type": "code",
   "execution_count": 12,
   "metadata": {},
   "outputs": [
    {
     "name": "stdout",
     "output_type": "stream",
     "text": [
      "x[0,2] 1.0\n",
      "x[1,0] 1.0\n",
      "x[2,3] 1.0\n",
      "x[3,4] 1.0\n",
      "x[4,5] 1.0\n",
      "x[5,1] 1.0\n",
      "Obj: 22.0\n",
      "[array([1, 3]), array([2, 1]), array([3, 4]), array([4, 5]), array([5, 6]), array([6, 2])]\n",
      "u[0] 0.0\n",
      "u[1] 5.0\n",
      "u[2] 1.0\n",
      "u[3] 2.0\n",
      "u[4] 3.0\n",
      "u[5] 4.0\n"
     ]
    }
   ],
   "source": [
    "#  Print optimal x for x nonzero and optimal value\n",
    "s_edge = []\n",
    "for v in x:    \n",
    "    if x[v].x > 0.001:\n",
    "        print(x[v].VarName, x[v].x)\n",
    "        #add both of the indicies by 1\n",
    "        edge = np.add(v, (1,1))\n",
    "        #append the edge to the resulting list of edges\n",
    "        s_edge.append(edge)\n",
    "\n",
    "\n",
    "print('Obj:', tsp.objVal)\n",
    "print(s_edge)\n",
    "for v in u: \n",
    "    print(u[v].VarName, u[v].x)"
   ]
  },
  {
   "cell_type": "code",
   "execution_count": 13,
   "metadata": {},
   "outputs": [
    {
     "name": "stdout",
     "output_type": "stream",
     "text": [
      "[1. 3. 4. 5. 6. 2.]\n"
     ]
    }
   ],
   "source": [
    "#  Obtain the permutation as a representation of the tour\n",
    "\n",
    "permu = np.ones(N)\n",
    "predecessor = 1\n",
    "for i in range(N):\n",
    "    for s in s_edge:\n",
    "        if s[0] == predecessor:\n",
    "            permu[i] = s[0]\n",
    "            predecessor = s[1]\n",
    "            break    \n",
    "    \n",
    "print(permu)"
   ]
  },
  {
   "cell_type": "markdown",
   "metadata": {},
   "source": [
    "#### Conclusion\n",
    "\n",
    "[ 1 > 3 > 4 > 5 > 6 > 2 > 1 ] is the optimal route as suggested by the model above (although not unique). The minimum walking time using the aforementioned route is 22 minutes "
   ]
  },
  {
   "cell_type": "markdown",
   "metadata": {},
   "source": [
    "#### Minimum traveling time and route (delivery before consumers maximum waiting time)"
   ]
  },
  {
   "cell_type": "code",
   "execution_count": 16,
   "metadata": {},
   "outputs": [
    {
     "name": "stdout",
     "output_type": "stream",
     "text": [
      "Optimize a model with 48 rows, 42 columns and 158 nonzeros\n",
      "Variable types: 6 continuous, 36 integer (36 binary)\n",
      "Coefficient statistics:\n",
      "  Matrix range     [1e+00, 1e+04]\n",
      "  Objective range  [1e+00, 1e+03]\n",
      "  Bounds range     [1e+00, 1e+00]\n",
      "  RHS range        [1e+00, 1e+04]\n",
      "Presolve removed 22 rows and 17 columns\n",
      "Presolve time: 0.00s\n",
      "Presolved: 26 rows, 25 columns, 134 nonzeros\n",
      "Variable types: 4 continuous, 21 integer (21 binary)\n",
      "\n",
      "Root relaxation: objective 1.300000e+01, 15 iterations, 0.00 seconds\n",
      "\n",
      "    Nodes    |    Current Node    |     Objective Bounds      |     Work\n",
      " Expl Unexpl |  Obj  Depth IntInf | Incumbent    BestBd   Gap | It/Node Time\n",
      "\n",
      "     0     0   13.00000    0    6          -   13.00000      -     -    0s\n",
      "H    0     0                      25.0000000   13.00000  48.0%     -    0s\n",
      "     0     0   13.00000    0    6   25.00000   13.00000  48.0%     -    0s\n",
      "     0     0   13.00000    0    6   25.00000   13.00000  48.0%     -    0s\n",
      "     0     0   22.00000    0   11   25.00000   22.00000  12.0%     -    0s\n",
      "     0     2   22.00000    0   11   25.00000   22.00000  12.0%     -    0s\n",
      "\n",
      "Cutting planes:\n",
      "  Gomory: 1\n",
      "\n",
      "Explored 23 nodes (97 simplex iterations) in 0.03 seconds\n",
      "Thread count was 8 (of 8 available processors)\n",
      "\n",
      "Solution count 1: 25 \n",
      "\n",
      "Optimal solution found (tolerance 1.00e-04)\n",
      "Best objective 2.500000000000e+01, best bound 2.500000000000e+01, gap 0.0000%\n"
     ]
    }
   ],
   "source": [
    "# Model Set-up\n",
    "\n",
    "tsp = Model(\"traveling_salesman\")\n",
    "\n",
    "# Creat variables\n",
    "x = tsp.addVars(N, N, vtype=GRB.BINARY, name = \"x\")\n",
    "u = tsp.addVars(N, name = \"u\")\n",
    "\n",
    "# waiting times\n",
    "waiting_time = np.array([0, 5, 10, 15, 13, 14])\n",
    "\n",
    "# Set objective\n",
    "tsp.setObjective( quicksum(cost[i,j]*x[i,j] for i in range(N) for j in range(N)), GRB.MINIMIZE)\n",
    "\n",
    "# Assignment constraints:\n",
    "tsp.addConstrs(( quicksum(x[i,j] for j in range(N)) == 1 for i in range(N) ))\n",
    " \n",
    "tsp.addConstrs(( quicksum(x[i,j] for i in range(N)) == 1 for j in range(N) ))\n",
    "\n",
    "# Subtour-breaking constraints:\n",
    "tsp.addConstrs(( u[i] + cost[i,j] - u[j] <= M*(1 - x[i,j])  for i in range(N) for j in range(1,N) ))\n",
    "\n",
    "# Waiting time constraints\n",
    "tsp.addConstrs( (u[i] <= waiting_time[i] for i in range(len(waiting_time))))\n",
    "\n",
    "# Solving the model\n",
    "tsp.optimize()\n"
   ]
  },
  {
   "cell_type": "code",
   "execution_count": 17,
   "metadata": {},
   "outputs": [
    {
     "name": "stdout",
     "output_type": "stream",
     "text": [
      "x[0,1] 1.0\n",
      "x[1,2] 1.0\n",
      "x[2,4] 1.0\n",
      "x[3,0] 1.0\n",
      "x[4,5] 1.0\n",
      "x[5,3] 1.0\n",
      "Obj: 25.0\n",
      "[array([1, 2]), array([2, 3]), array([3, 5]), array([4, 1]), array([5, 6]), array([6, 4])]\n",
      "u[0] 0.0\n",
      "u[1] 3.0\n",
      "u[2] 6.0\n",
      "u[3] 15.0\n",
      "u[4] 11.99999999999994\n",
      "u[5] 13.0\n"
     ]
    }
   ],
   "source": [
    "#  Print optimal x for x nonzero and optimal value\n",
    "s_edge = []\n",
    "for v in x:    \n",
    "    if x[v].x > 0.001:\n",
    "        print(x[v].VarName, x[v].x)\n",
    "        #add both of the indicies by 1\n",
    "        edge = np.add(v, (1,1))\n",
    "        #append the edge to the resulting list of edges\n",
    "        s_edge.append(edge)\n",
    "\n",
    "\n",
    "print('Obj:', tsp.objVal)\n",
    "print(s_edge)\n",
    "for v in u: \n",
    "    print(u[v].VarName, u[v].x)"
   ]
  },
  {
   "cell_type": "code",
   "execution_count": 18,
   "metadata": {},
   "outputs": [
    {
     "name": "stdout",
     "output_type": "stream",
     "text": [
      "[1. 2. 3. 5. 6. 4.]\n"
     ]
    }
   ],
   "source": [
    "#  Obtain the permutation as a representation of the tour\n",
    "\n",
    "permu = np.ones(N)\n",
    "predecessor = 1\n",
    "for i in range(N):\n",
    "    for s in s_edge:\n",
    "        if s[0] == predecessor:\n",
    "            permu[i] = s[0]\n",
    "            predecessor = s[1]\n",
    "            break    \n",
    "    \n",
    "print(permu)"
   ]
  },
  {
   "cell_type": "markdown",
   "metadata": {},
   "source": [
    "#### Conclusion\n",
    "\n",
    "[ 1 > 2 > 3 > 5 > 6 > 4 > 1 ] is the optimal route as suggested by the model above. The minimum walking time using the aforementioned route is 25 minutes."
   ]
  }
 ],
 "metadata": {
  "kernelspec": {
   "display_name": "Python 3",
   "language": "python",
   "name": "python3"
  },
  "language_info": {
   "codemirror_mode": {
    "name": "ipython",
    "version": 3
   },
   "file_extension": ".py",
   "mimetype": "text/x-python",
   "name": "python",
   "nbconvert_exporter": "python",
   "pygments_lexer": "ipython3",
   "version": "3.7.6"
  }
 },
 "nbformat": 4,
 "nbformat_minor": 2
}
